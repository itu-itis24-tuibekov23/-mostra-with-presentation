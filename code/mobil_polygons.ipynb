{
  "cells": [
    {
      "cell_type": "code",
      "execution_count": null,
      "metadata": {
        "colab": {
          "base_uri": "https://localhost:8080/"
        },
        "id": "L9R4gnJbYQxl",
        "outputId": "d609d7ff-5532-4a0d-aed2-3c3f40d8bdcf"
      },
      "outputs": [
        {
          "name": "stdout",
          "output_type": "stream",
          "text": [
            "Requirement already satisfied: pandas in /usr/local/lib/python3.11/dist-packages (2.2.2)\n",
            "Requirement already satisfied: geopandas in /usr/local/lib/python3.11/dist-packages (1.0.1)\n",
            "Requirement already satisfied: pyarrow in /usr/local/lib/python3.11/dist-packages (18.1.0)\n",
            "Requirement already satisfied: shapely in /usr/local/lib/python3.11/dist-packages (2.1.0)\n",
            "Requirement already satisfied: numpy>=1.23.2 in /usr/local/lib/python3.11/dist-packages (from pandas) (2.0.2)\n",
            "Requirement already satisfied: python-dateutil>=2.8.2 in /usr/local/lib/python3.11/dist-packages (from pandas) (2.9.0.post0)\n",
            "Requirement already satisfied: pytz>=2020.1 in /usr/local/lib/python3.11/dist-packages (from pandas) (2025.2)\n",
            "Requirement already satisfied: tzdata>=2022.7 in /usr/local/lib/python3.11/dist-packages (from pandas) (2025.2)\n",
            "Requirement already satisfied: pyogrio>=0.7.2 in /usr/local/lib/python3.11/dist-packages (from geopandas) (0.11.0)\n",
            "Requirement already satisfied: packaging in /usr/local/lib/python3.11/dist-packages (from geopandas) (24.2)\n",
            "Requirement already satisfied: pyproj>=3.3.0 in /usr/local/lib/python3.11/dist-packages (from geopandas) (3.7.1)\n",
            "Requirement already satisfied: certifi in /usr/local/lib/python3.11/dist-packages (from pyogrio>=0.7.2->geopandas) (2025.4.26)\n",
            "Requirement already satisfied: six>=1.5 in /usr/local/lib/python3.11/dist-packages (from python-dateutil>=2.8.2->pandas) (1.17.0)\n"
          ]
        }
      ],
      "source": [
        "!pip install pandas geopandas pyarrow shapely"
      ]
    },
    {
      "cell_type": "code",
      "execution_count": null,
      "metadata": {
        "colab": {
          "base_uri": "https://localhost:8080/"
        },
        "id": "P-ol7mAgYTU5",
        "outputId": "a5c86167-caaa-4b89-b87c-60dd942e14da"
      },
      "outputs": [
        {
          "name": "stdout",
          "output_type": "stream",
          "text": [
            "Drive already mounted at /content/drive; to attempt to forcibly remount, call drive.mount(\"/content/drive\", force_remount=True).\n"
          ]
        }
      ],
      "source": [
        "import pandas as pd\n",
        "import geopandas\n",
        "from shapely.geometry import Point\n",
        "import os\n",
        "from datetime import datetime\n",
        "\n",
        "# Google Drive'ı bağlamak için (Colab'da çalıştırılıyorsa)\n",
        "from google.colab import drive\n",
        "drive.mount('/content/drive')"
      ]
    },
    {
      "cell_type": "code",
      "execution_count": null,
      "metadata": {
        "colab": {
          "base_uri": "https://localhost:8080/"
        },
        "id": "YTehcPAYYVem",
        "outputId": "05502522-1104-4489-eb54-b948737ed1c0"
      },
      "outputs": [
        {
          "name": "stdout",
          "output_type": "stream",
          "text": [
            "Mobilite verisi '/content/drive/MyDrive/MobilityDataMay2024.parquet' başarıyla yüklendi. Boyut: (52225739, 19)\n",
            "İlk 5 satır:\n",
            "    timestamp                            device_aid   latitude  longitude  \\\n",
            "0  1716563371  4d4b939f-3f71-4366-aea0-ebfbb1906b9f  40.987983  29.027896   \n",
            "1  1716564390  30c55c28-45e8-6980-ad1d-7064b7c84051  40.988467  29.109296   \n",
            "2  1716563418  d9287169-2268-4958-89dd-192d25dec817  41.023274  29.094867   \n",
            "3  1716562879  e55c0589-0589-4539-9783-f96448f259f2  40.994214  29.151767   \n",
            "4  1716563925  35b845d0-fba5-412a-a8f1-f987fa94ffaa  40.997840  29.027981   \n",
            "\n",
            "   horizontal_accuracy  altitude  altitude_accuracy location_method  \\\n",
            "0                 11.9      70.1                0.0           fused   \n",
            "1                 12.0      58.4                0.0             gps   \n",
            "2                 13.5     188.3                0.0           fused   \n",
            "3                 15.9     160.2                5.0           fused   \n",
            "4                  7.3      12.6                0.0             gps   \n",
            "\n",
            "               ip       os           region  district           neighborhood  \\\n",
            "0    176.55.74.51  Android  Marmara Bölgesi   Kadıköy     Caferağa Mahallesi   \n",
            "1   176.54.104.86  Android  Marmara Bölgesi  Ataşehir      Atatürk Mahallesi   \n",
            "2                  Android  Marmara Bölgesi  Ümraniye  Namık Kemal Mahallesi   \n",
            "3                  Android  Marmara Bölgesi  Ataşehir    Yenişehir Mahallesi   \n",
            "4  176.30.255.159      iOS  Marmara Bölgesi   Kadıköy    Rasimpaşa Mahallesi   \n",
            "\n",
            "   airport poi_name poi_leisure  poi_amenity  grid_id  province  \n",
            "0      NaN                               NaN  4100902  Istanbul  \n",
            "1      NaN                               NaN  4100910  Istanbul  \n",
            "2      NaN                               NaN  4104909  Istanbul  \n",
            "3      NaN                               NaN  4101915  Istanbul  \n",
            "4      NaN                               NaN  4101902  Istanbul  \n",
            "\n",
            "Veri tipleri:\n",
            "timestamp                int64\n",
            "device_aid              object\n",
            "latitude               float64\n",
            "longitude              float64\n",
            "horizontal_accuracy    float64\n",
            "dtype: object\n"
          ]
        }
      ],
      "source": [
        "# Google Drive'daki dosya yollarını belirtin\n",
        "# LÜTFEN BU YOLLARI KENDİ GOOGLE DRIVE YAPINIZA GÖRE GÜNCELLEYİN!\n",
        "base_drive_path = '/content/drive/MyDrive/' # Genellikle '/content/drive/MyDrive/' olur\n",
        "\n",
        "mobility_data_filename = 'MobilityDataMay2024.parquet'\n",
        "polygons_folder_name = 'Polygons/'\n",
        "\n",
        "mobility_data_path = os.path.join(base_drive_path, mobility_data_filename)\n",
        "polygons_path = os.path.join(base_drive_path, polygons_folder_name)\n",
        "\n",
        "# Mobilite Verisi Yükleme\n",
        "try:\n",
        "    df_mobility = pd.read_parquet(mobility_data_path)\n",
        "    print(f\"Mobilite verisi '{mobility_data_path}' başarıyla yüklendi. Boyut: {df_mobility.shape}\")\n",
        "    print(\"İlk 5 satır:\")\n",
        "    print(df_mobility.head())\n",
        "    print(\"\\nVeri tipleri:\")\n",
        "    print(df_mobility.dtypes.head())\n",
        "except FileNotFoundError:\n",
        "    print(f\"HATA: Mobilite verisi dosyası bulunamadı: {mobility_data_path}\")\n",
        "    print(\"Lütfen dosya yolunu ve adını kontrol edin.\")\n",
        "except Exception as e:\n",
        "    print(f\"HATA: Mobilite verisi yüklenirken bir sorun oluştu: {e}\")"
      ]
    },
    {
      "cell_type": "code",
      "execution_count": null,
      "metadata": {
        "colab": {
          "base_uri": "https://localhost:8080/"
        },
        "id": "h_ThoFQEJtc-",
        "outputId": "9e5b0ead-4ba6-414e-f642-1d10173e64bb"
      },
      "outputs": [
        {
          "name": "stdout",
          "output_type": "stream",
          "text": [
            "\n",
            "'/content/drive/MyDrive/Polygons/' klasöründe bulunan GeoJSON dosyaları: ['airport.geojson', 'lvl2.geojson', 'lvl3.geojson', 'lvl4.geojson', 'poi.geojson', 'lvl1.geojson', 'merged_polygons_clubs.geojson', 'merged_polygons_hotels.geojson', 'merged_polygons_luxury_houses.geojson', 'merged_polygons_turkey_sites.geojson', 'merged_polygons_p_schools.geojson']\n",
            "'airport.geojson' (airport) yüklendi. Boyut: (108, 9), CRS: EPSG:4326\n",
            "'lvl2.geojson' (lvl2) yüklendi. Boyut: (81, 26), CRS: EPSG:4326\n",
            "'lvl3.geojson' (lvl3) yüklendi. Boyut: (974, 26), CRS: EPSG:4326\n",
            "'lvl4.geojson' (lvl4) yüklendi. Boyut: (12481, 26), CRS: EPSG:4326\n",
            "'poi.geojson' (poi) yüklendi. Boyut: (196708, 12), CRS: EPSG:4326\n",
            "'lvl1.geojson' (lvl1) yüklendi. Boyut: (7, 26), CRS: EPSG:4326\n",
            "'merged_polygons_clubs.geojson' (clubs) yüklendi. Boyut: (31, 3), CRS: EPSG:4326\n",
            "'merged_polygons_hotels.geojson' (hotels) yüklendi. Boyut: (358, 3), CRS: EPSG:4326\n",
            "'merged_polygons_luxury_houses.geojson' (luxury_houses) yüklendi. Boyut: (47, 3), CRS: EPSG:4326\n",
            "'merged_polygons_turkey_sites.geojson' (turkey_sites) yüklendi. Boyut: (17, 3), CRS: EPSG:4326\n",
            "'merged_polygons_p_schools.geojson' (p_schools) yüklendi. Boyut: (973, 3), CRS: EPSG:4326\n",
            "\n",
            "Yüklenen poligon türleri: ['airport', 'lvl2', 'lvl3', 'lvl4', 'poi', 'lvl1', 'clubs', 'hotels', 'luxury_houses', 'turkey_sites', 'p_schools']\n"
          ]
        }
      ],
      "source": [
        "dict_gdfs_polygons = {}\n",
        "if os.path.exists(polygons_path) and os.path.isdir(polygons_path):\n",
        "    geojson_files = [f for f in os.listdir(polygons_path) if f.endswith('.geojson')]\n",
        "    print(f\"\\n'{polygons_path}' klasöründe bulunan GeoJSON dosyaları: {geojson_files}\")\n",
        "\n",
        "    for file_name in geojson_files:\n",
        "        polygon_type = file_name.replace('.geojson', '').replace('merged_polygons_', '') # Alan türü için bir isim türetme\n",
        "        file_path = os.path.join(polygons_path, file_name)\n",
        "        try:\n",
        "            gdf_polygon = geopandas.read_file(file_path)\n",
        "            # CRS kontrolü ve dönüşümü (hedef EPSG:4326)\n",
        "            if gdf_polygon.crs is None:\n",
        "                print(f\"Uyarı: '{file_name}' için CRS tanımlı değil. EPSG:4326 varsayılıyor.\")\n",
        "                gdf_polygon = gdf_polygon.set_crs(\"EPSG:4326\", allow_override=True)\n",
        "            elif gdf_polygon.crs.to_string() != \"EPSG:4326\": # CRS'leri string olarak karşılaştır\n",
        "                print(f\"'{file_name}' CRS'i {gdf_polygon.crs} 'den EPSG:4326'ya dönüştürülüyor.\")\n",
        "                gdf_polygon = gdf_polygon.to_crs(\"EPSG:4326\")\n",
        "\n",
        "            dict_gdfs_polygons[polygon_type] = gdf_polygon\n",
        "            print(f\"'{file_name}' ({polygon_type}) yüklendi. Boyut: {gdf_polygon.shape}, CRS: {gdf_polygon.crs}\")\n",
        "        except Exception as e:\n",
        "            print(f\"Hata: '{file_name}' yüklenemedi. {e}\")\n",
        "\n",
        "    print(f\"\\nYüklenen poligon türleri: {list(dict_gdfs_polygons.keys())}\")\n",
        "else:\n",
        "    print(f\"HATA: Poligon klasörü bulunamadı: {polygons_path}\")\n",
        "    print(\"Lütfen klasör yolunu ve adını kontrol edin.\")"
      ]
    },
    {
      "cell_type": "code",
      "execution_count": null,
      "metadata": {
        "id": "eeDb5OftI5H_"
      },
      "outputs": [],
      "source": [
        "# df_mobility DataFrame'inden rastgele 10k satır örnekleme\n",
        "# Bu hücre, zaman damgası dönüşümleri yapıldıktan SONRA çalıştırılmalıdır.\n",
        "if 'df_mobility' in locals() and df_mobility is not None:\n",
        "    original_row_count = df_mobility.shape[0]\n",
        "    sample_size = 5000000\n",
        "\n",
        "    if original_row_count > sample_size:\n",
        "        print(f\"\\nOrijinal df_mobility boyutu (zaman damgası eklendikten sonra): {original_row_count} satır.\")\n",
        "        df_mobility = df_mobility.sample(n=sample_size, random_state=42) # random_state tekrarlanabilirlik için\n",
        "        print(f\"df_mobility DataFrame'inden rastgele {sample_size} satır örneklendi. Yeni boyut: {df_mobility.shape}\")\n",
        "    else:\n",
        "        print(f\"\\ndf_mobility DataFrame'i zaten {sample_size} satırdan az veya eşit ({original_row_count} satır), örnekleme yapılmadı.\")\n",
        "else:\n",
        "    print(\"\\nUyarı: 'df_mobility' DataFrame'i bulunamadı veya None. Örnekleme adımı atlandı.\")\n",
        "\n",
        "# İstenmeyen sütunları düşür (kullanıcı isteği)\\n\n",
        "print(\"\\n--- Sütun Düşürme Başlıyor (Kullanıcı İsteği) ---\")\n",
        "if 'df_mobility' in locals() and df_mobility is not None:\n",
        "    columns_to_drop = ['region', 'location', 'method']\n",
        "    existing_columns_to_drop = [col for col in columns_to_drop if col in df_mobility.columns]\n",
        "    if existing_columns_to_drop:\n",
        "        df_mobility = df_mobility.drop(columns=existing_columns_to_drop)\n",
        "        print(f\"Şu sütunlar df_mobility'den düşürüldü: {existing_columns_to_drop}\")\n",
        "        print(f\"df_mobility yeni boyutu: {df_mobility.shape}\")\n",
        "    else:\n",
        "        print(f\"Belirtilen sütunlar ({columns_to_drop}) df_mobility'de bulunamadı, düşürme işlemi yapılmadı.\")\\n\n",
        "else:\n",
        "    print(\"Uyarı: 'df_mobility' DataFrame'i tanımlı değil veya None, sütun düşürme işlemi atlandı.\")\n",
        "print(\"--- Sütun Düşürme Tamamlandı ---\")"
      ]
    },
    {
      "cell_type": "code",
      "execution_count": null,
      "metadata": {
        "colab": {
          "base_uri": "https://localhost:8080/"
        },
        "id": "m9DWC4biIyvs",
        "outputId": "ac760a6f-d4fb-4432-edc8-6275016ace5f"
      },
      "outputs": [
        {
          "name": "stdout",
          "output_type": "stream",
          "text": [
            "\n",
            "Zaman damgası dönüştürüldü:\n",
            "    timestamp        timestamp_dt            readable_time\n",
            "0  1716563371 2024-05-24 15:09:31  2024-05-24 18:09:31 +03\n",
            "1  1716564390 2024-05-24 15:26:30  2024-05-24 18:26:30 +03\n",
            "2  1716563418 2024-05-24 15:10:18  2024-05-24 18:10:18 +03\n",
            "3  1716562879 2024-05-24 15:01:19  2024-05-24 18:01:19 +03\n",
            "4  1716563925 2024-05-24 15:18:45  2024-05-24 18:18:45 +03\n"
          ]
        }
      ],
      "source": [
        "# Zaman Damgası Dönüşümü\n",
        "if 'df_mobility' in locals() and 'timestamp' in df_mobility.columns:\n",
        "    try:\n",
        "        df_mobility['timestamp_dt'] = pd.to_datetime(df_mobility['timestamp'], unit='s')\n",
        "        # Okunabilir formatta yeni bir sütun (Türkiye saatiyle)\n",
        "        df_mobility['readable_time'] = df_mobility['timestamp_dt'].dt.tz_localize('UTC').dt.tz_convert('Europe/Istanbul').dt.strftime('%Y-%m-%d %H:%M:%S %Z')\n",
        "        print(\"\\nZaman damgası dönüştürüldü:\")\n",
        "        print(df_mobility[['timestamp', 'timestamp_dt', 'readable_time']].head())\n",
        "    except Exception as e:\n",
        "        print(f\"HATA: Zaman damgası dönüştürülürken bir sorun oluştu: {e}\")\n",
        "else:\n",
        "    print(\"Uyarı: 'df_mobility' DataFrame'i veya 'timestamp' sütunu bulunamadı. Zaman damgası dönüşümü atlandı.\")"
      ]
    },
    {
      "cell_type": "code",
      "execution_count": null,
      "metadata": {
        "colab": {
          "base_uri": "https://localhost:8080/"
        },
        "id": "5Lg-4WA6fPxb",
        "outputId": "7a82194b-4379-4d7c-b690-1dc3270a85c2"
      },
      "outputs": [
        {
          "name": "stdout",
          "output_type": "stream",
          "text": [
            "\n",
            "Mobilite verisi GeoDataFrame'e dönüştürüldü.\n",
            "           timestamp                            device_aid   latitude  \\\n",
            "11818902  1715381206  579c691c-ad0d-48c1-a537-595019fb8d8f  40.971389   \n",
            "22210453  1714732842  aac74dea-1d11-62ce-a42a-4719c7913979  40.971727   \n",
            "2143920   1716228508  c3120561-95b7-4010-9b01-ea7ac2128343  41.019800   \n",
            "27161578  1714819165  8fd8ac7e-1364-4528-89b5-a1a1f2a55b23  41.010000   \n",
            "47560420  1716618369  be969d25-6296-68a0-a8c2-54d39012ae5e  40.979356   \n",
            "\n",
            "          longitude  horizontal_accuracy  altitude  altitude_accuracy  \\\n",
            "11818902  29.061102                 17.1      66.2                0.0   \n",
            "22210453  29.083531                 10.0      53.6                0.0   \n",
            "2143920   29.107456                 24.3     166.9                0.0   \n",
            "27161578  29.160000                  5.7       0.0                0.0   \n",
            "47560420  29.069597                 15.4     102.6                0.0   \n",
            "\n",
            "         location_method            ip       os  ...  \\\n",
            "11818902           fused                Android  ...   \n",
            "22210453             gps                    iOS  ...   \n",
            "2143920            fused                Android  ...   \n",
            "27161578           fused  78.171.218.0  Android  ...   \n",
            "47560420           fused                Android  ...   \n",
            "\n",
            "                      neighborhood airport poi_name  poi_leisure poi_amenity  \\\n",
            "11818902     Caddebostan Mahallesi     NaN                               NaN   \n",
            "22210453        19 Mayıs Mahallesi     NaN                               NaN   \n",
            "2143920          Atakent Mahallesi     NaN                               NaN   \n",
            "27161578  Yukarı Dudullu Mahallesi     NaN                               NaN   \n",
            "47560420         Göztepe Mahallesi     NaN                               NaN   \n",
            "\n",
            "          grid_id  province        timestamp_dt            readable_time  \\\n",
            "11818902  4099906  Istanbul 2024-05-10 22:46:46  2024-05-11 01:46:46 +03   \n",
            "22210453  4099908  Istanbul 2024-05-03 10:40:42  2024-05-03 13:40:42 +03   \n",
            "2143920   4103910  Istanbul 2024-05-20 18:08:28  2024-05-20 21:08:28 +03   \n",
            "27161578  4103916  Istanbul 2024-05-04 10:39:25  2024-05-04 13:39:25 +03   \n",
            "47560420  4099906  Istanbul 2024-05-25 06:26:09  2024-05-25 09:26:09 +03   \n",
            "\n",
            "                           geometry  \n",
            "11818902   POINT (29.0611 40.97139)  \n",
            "22210453  POINT (29.08353 40.97173)  \n",
            "2143920    POINT (29.10746 41.0198)  \n",
            "27161578        POINT (29.16 41.01)  \n",
            "47560420   POINT (29.0696 40.97936)  \n",
            "\n",
            "[5 rows x 22 columns]\n"
          ]
        }
      ],
      "source": [
        "# Mobilite Verisini GeoDataFrame'e Dönüştürme\n",
        "if 'df_mobility' in locals() and 'longitude' in df_mobility.columns and 'latitude' in df_mobility.columns:\n",
        "    try:\n",
        "        gdf_mobility = geopandas.GeoDataFrame(\n",
        "            df_mobility,\n",
        "            geometry=geopandas.points_from_xy(df_mobility.longitude, df_mobility.latitude),\n",
        "            crs=\"EPSG:4326\" # WGS84\n",
        "        )\n",
        "        print(\"\\nMobilite verisi GeoDataFrame'e dönüştürüldü.\")\n",
        "        print(gdf_mobility.head())\n",
        "    except Exception as e:\n",
        "        print(f\"HATA: Mobilite verisi GeoDataFrame'e dönüştürülürken bir sorun oluştu: {e}\")\n",
        "else:\n",
        "    print(\"Uyarı: 'df_mobility' DataFrame'i veya 'longitude'/'latitude' sütunları bulunamadı. GeoDataFrame dönüşümü atlandı.\")"
      ]
    },
    {
      "cell_type": "code",
      "execution_count": null,
      "metadata": {
        "colab": {
          "base_uri": "https://localhost:8080/"
        },
        "id": "vPN_Yu9ufeTp",
        "outputId": "0e66f6b1-951a-4e52-faf5-c0a05623edf1"
      },
      "outputs": [
        {
          "name": "stdout",
          "output_type": "stream",
          "text": [
            "DEBUG: gdf_results başlangıç CRS: EPSG:4326, Boyut: (1000000, 22)\n",
            "DEBUG: Mobilite verisi bounds: [29.006357  40.9515875 29.203419  41.07727  ]\n",
            "DEBUG: Filtreleme için kullanılacak bounds (buffer ile): [np.float64(28.996357), np.float64(40.941587500000004), np.float64(29.213419000000002), np.float64(41.08727)]\n",
            "\n",
            "--- 'airport' poligonları ile işleme başlanıyor ---\n",
            "DEBUG: gdf_polygon ('airport') BAŞLANGIÇ shape: (108, 9), bounds: [25.8794965 36.2964189 44.2620814 42.0253638]\n",
            "DEBUG: gdf_polygon ('airport') FİLTRELENMİŞ shape: (1, 9), bounds: [29.2034381 40.9847639 29.2253223 41.0014284]\n",
            "DEBUG: gdf_results geometri türleri: ['Point']\n",
            "DEBUG: gdf_polygon ('airport') geometri türleri: ['MultiPolygon']\n",
            "DEBUG: sjoin için hazırlanıyor: gdf_results ((1000000, 22)), gdf_polygon ('airport') ((1, 9))\n",
            "DEBUG: gdf_joined_temp SHAPE for 'airport': (1000000, 31)\n",
            "DEBUG: Index sütunu bulundu: 'index__poly_airport'\n",
            "DEBUG: 'airport' için toplam eşleşme sayısı: 0\n",
            "DEBUG: 'airport' için eşleşme oranı: 0.0%\n",
            "'airport' için birleştirme tamamlandı. Eşleşen nokta sayısı: 0\n",
            "DEBUG: 'airport' True/False dağılımı:\n",
            "in_airport\n",
            "False    1000000\n",
            "Name: count, dtype: int64\n",
            "\n",
            "--- 'lvl2' poligonları ile işleme başlanıyor ---\n",
            "DEBUG: gdf_polygon ('lvl2') BAŞLANGIÇ shape: (81, 26), bounds: [25.5656305 35.8058974 44.8176638 42.297    ]\n",
            "DEBUG: gdf_polygon ('lvl2') FİLTRELENMİŞ shape: (1, 26), bounds: [27.9708481 40.7376735 29.9588048 41.671    ]\n",
            "DEBUG: gdf_results geometri türleri: ['Point']\n",
            "DEBUG: gdf_polygon ('lvl2') geometri türleri: ['MultiPolygon']\n",
            "DEBUG: sjoin için hazırlanıyor: gdf_results ((1000000, 31)), gdf_polygon ('lvl2') ((1, 26))\n",
            "DEBUG: gdf_joined_temp SHAPE for 'lvl2': (1000000, 57)\n",
            "DEBUG: Index sütunu bulundu: 'index__poly_lvl2'\n",
            "DEBUG: 'lvl2' için toplam eşleşme sayısı: 1000000\n",
            "DEBUG: 'lvl2' için eşleşme oranı: 100.0%\n",
            "'lvl2' için birleştirme tamamlandı. Eşleşen nokta sayısı: 1000000\n",
            "DEBUG: 'lvl2' True/False dağılımı:\n",
            "in_lvl2\n",
            "True    1000000\n",
            "Name: count, dtype: int64\n",
            "\n",
            "--- 'lvl3' poligonları ile işleme başlanıyor ---\n",
            "DEBUG: gdf_polygon ('lvl3') BAŞLANGIÇ shape: (974, 26), bounds: [25.6654487 35.8058974 44.8176638 42.1048008]\n",
            "DEBUG: gdf_polygon ('lvl3') FİLTRELENMİŞ shape: (13, 26), bounds: [28.9325702 40.8781452 29.4020295 41.2621786]\n",
            "DEBUG: gdf_results geometri türleri: ['Point']\n",
            "DEBUG: gdf_polygon ('lvl3') geometri türleri: ['MultiPolygon']\n",
            "DEBUG: sjoin için hazırlanıyor: gdf_results ((1000000, 57)), gdf_polygon ('lvl3') ((13, 26))\n",
            "DEBUG: gdf_joined_temp SHAPE for 'lvl3': (1000000, 83)\n",
            "DEBUG: Index sütunu bulundu: 'index__poly_lvl3'\n",
            "DEBUG: 'lvl3' için toplam eşleşme sayısı: 1000000\n",
            "DEBUG: 'lvl3' için eşleşme oranı: 100.0%\n",
            "'lvl3' için birleştirme tamamlandı. Eşleşen nokta sayısı: 1000000\n",
            "DEBUG: 'lvl3' True/False dağılımı:\n",
            "in_lvl3\n",
            "True    1000000\n",
            "Name: count, dtype: int64\n",
            "\n",
            "--- 'lvl4' poligonları ile işleme başlanıyor ---\n",
            "DEBUG: gdf_polygon ('lvl4') BAŞLANGIÇ shape: (12481, 26), bounds: [26.036337  36.1879748 44.6227321 42.1048008]\n",
            "DEBUG: gdf_polygon ('lvl4') FİLTRELENMİŞ shape: (187, 26), bounds: [28.9864346 40.9183359 29.2802864 41.1384231]\n",
            "DEBUG: gdf_results geometri türleri: ['Point']\n",
            "DEBUG: gdf_polygon ('lvl4') geometri türleri: ['MultiPolygon']\n",
            "DEBUG: sjoin için hazırlanıyor: gdf_results ((1000000, 83)), gdf_polygon ('lvl4') ((187, 26))\n",
            "DEBUG: gdf_joined_temp SHAPE for 'lvl4': (1000000, 109)\n",
            "DEBUG: Index sütunu bulundu: 'index__poly_lvl4'\n",
            "DEBUG: 'lvl4' için toplam eşleşme sayısı: 1000000\n",
            "DEBUG: 'lvl4' için eşleşme oranı: 100.0%\n",
            "'lvl4' için birleştirme tamamlandı. Eşleşen nokta sayısı: 1000000\n",
            "DEBUG: 'lvl4' True/False dağılımı:\n",
            "in_lvl4\n",
            "True    1000000\n",
            "Name: count, dtype: int64\n",
            "\n",
            "--- 'poi' poligonları ile işleme başlanıyor ---\n",
            "DEBUG: gdf_polygon ('poi') BAŞLANGIÇ shape: (196708, 12), bounds: [25.6821803 35.8586717 44.7982119 42.0980451]\n",
            "DEBUG: gdf_polygon ('poi') FİLTRELENMİŞ shape: (6951, 12), bounds: [28.9775912 40.9314023 29.2373771 41.1383293]\n",
            "UYARI: gdf_polygon ('poi') geçersiz geometriler içeriyor. Temizlenmeye çalışılıyor...\n",
            "DEBUG: gdf_polygon ('poi') temizlendikten sonra shape: (6949, 12)\n",
            "DEBUG: gdf_results geometri türleri: ['Point']\n",
            "DEBUG: gdf_polygon ('poi') geometri türleri: ['MultiPolygon']\n",
            "DEBUG: sjoin için hazırlanıyor: gdf_results ((1000000, 109)), gdf_polygon ('poi') ((6949, 12))\n",
            "DEBUG: gdf_joined_temp SHAPE for 'poi': (1004122, 121)\n",
            "DEBUG: Index sütunu bulundu: 'index__poly_poi'\n",
            "DEBUG: 'poi' için toplam eşleşme sayısı: 65071\n",
            "DEBUG: 'poi' için eşleşme oranı: 6.5%\n",
            "DEBUG: 'poi' için duplicate index'ler mevcut, gruplandırılıyor...\n"
          ]
        },
        {
          "name": "stderr",
          "output_type": "stream",
          "text": [
            "/usr/local/lib/python3.11/dist-packages/geopandas/geodataframe.py:1819: PerformanceWarning: DataFrame is highly fragmented.  This is usually the result of calling `frame.insert` many times, which has poor performance.  Consider joining all columns at once using pd.concat(axis=1) instead. To get a de-fragmented frame, use `newframe = frame.copy()`\n",
            "  super().__setitem__(key, value)\n",
            "/usr/local/lib/python3.11/dist-packages/geopandas/geodataframe.py:1819: PerformanceWarning: DataFrame is highly fragmented.  This is usually the result of calling `frame.insert` many times, which has poor performance.  Consider joining all columns at once using pd.concat(axis=1) instead. To get a de-fragmented frame, use `newframe = frame.copy()`\n",
            "  super().__setitem__(key, value)\n",
            "/usr/local/lib/python3.11/dist-packages/geopandas/geodataframe.py:1819: PerformanceWarning: DataFrame is highly fragmented.  This is usually the result of calling `frame.insert` many times, which has poor performance.  Consider joining all columns at once using pd.concat(axis=1) instead. To get a de-fragmented frame, use `newframe = frame.copy()`\n",
            "  super().__setitem__(key, value)\n"
          ]
        },
        {
          "name": "stdout",
          "output_type": "stream",
          "text": [
            "'poi' için birleştirme tamamlandı. Eşleşen nokta sayısı: 60949\n",
            "DEBUG: 'poi' True/False dağılımı:\n",
            "in_poi\n",
            "False    939051\n",
            "True      60949\n",
            "Name: count, dtype: int64\n",
            "\n",
            "--- 'lvl1' poligonları ile işleme başlanıyor ---\n",
            "DEBUG: gdf_polygon ('lvl1') BAŞLANGIÇ shape: (7, 26), bounds: [25.5656305 35.8058974 44.8176638 42.297    ]\n",
            "DEBUG: gdf_polygon ('lvl1') FİLTRELENMİŞ shape: (1, 26), bounds: [25.5656305 39.0719739 31.0126662 42.1048008]\n",
            "DEBUG: gdf_results geometri türleri: ['Point']\n",
            "DEBUG: gdf_polygon ('lvl1') geometri türleri: ['MultiPolygon']\n",
            "DEBUG: sjoin için hazırlanıyor: gdf_results ((1000000, 121)), gdf_polygon ('lvl1') ((1, 26))\n"
          ]
        },
        {
          "name": "stderr",
          "output_type": "stream",
          "text": [
            "/usr/local/lib/python3.11/dist-packages/geopandas/tools/sjoin.py:274: PerformanceWarning: DataFrame is highly fragmented.  This is usually the result of calling `frame.insert` many times, which has poor performance.  Consider joining all columns at once using pd.concat(axis=1) instead. To get a de-fragmented frame, use `newframe = frame.copy()`\n",
            "  df_reset.reset_index(inplace=True)\n"
          ]
        },
        {
          "name": "stdout",
          "output_type": "stream",
          "text": [
            "DEBUG: gdf_joined_temp SHAPE for 'lvl1': (1000000, 147)\n",
            "DEBUG: Index sütunu bulundu: 'index__poly_lvl1'\n",
            "DEBUG: 'lvl1' için toplam eşleşme sayısı: 1000000\n",
            "DEBUG: 'lvl1' için eşleşme oranı: 100.0%\n"
          ]
        },
        {
          "name": "stderr",
          "output_type": "stream",
          "text": [
            "/usr/local/lib/python3.11/dist-packages/geopandas/geodataframe.py:1819: PerformanceWarning: DataFrame is highly fragmented.  This is usually the result of calling `frame.insert` many times, which has poor performance.  Consider joining all columns at once using pd.concat(axis=1) instead. To get a de-fragmented frame, use `newframe = frame.copy()`\n",
            "  super().__setitem__(key, value)\n",
            "/usr/local/lib/python3.11/dist-packages/geopandas/geodataframe.py:1819: PerformanceWarning: DataFrame is highly fragmented.  This is usually the result of calling `frame.insert` many times, which has poor performance.  Consider joining all columns at once using pd.concat(axis=1) instead. To get a de-fragmented frame, use `newframe = frame.copy()`\n",
            "  super().__setitem__(key, value)\n",
            "/usr/local/lib/python3.11/dist-packages/geopandas/geodataframe.py:1819: PerformanceWarning: DataFrame is highly fragmented.  This is usually the result of calling `frame.insert` many times, which has poor performance.  Consider joining all columns at once using pd.concat(axis=1) instead. To get a de-fragmented frame, use `newframe = frame.copy()`\n",
            "  super().__setitem__(key, value)\n",
            "/usr/local/lib/python3.11/dist-packages/geopandas/geodataframe.py:1819: PerformanceWarning: DataFrame is highly fragmented.  This is usually the result of calling `frame.insert` many times, which has poor performance.  Consider joining all columns at once using pd.concat(axis=1) instead. To get a de-fragmented frame, use `newframe = frame.copy()`\n",
            "  super().__setitem__(key, value)\n",
            "/usr/local/lib/python3.11/dist-packages/geopandas/geodataframe.py:1819: PerformanceWarning: DataFrame is highly fragmented.  This is usually the result of calling `frame.insert` many times, which has poor performance.  Consider joining all columns at once using pd.concat(axis=1) instead. To get a de-fragmented frame, use `newframe = frame.copy()`\n",
            "  super().__setitem__(key, value)\n",
            "/usr/local/lib/python3.11/dist-packages/geopandas/geodataframe.py:1819: PerformanceWarning: DataFrame is highly fragmented.  This is usually the result of calling `frame.insert` many times, which has poor performance.  Consider joining all columns at once using pd.concat(axis=1) instead. To get a de-fragmented frame, use `newframe = frame.copy()`\n",
            "  super().__setitem__(key, value)\n",
            "/usr/local/lib/python3.11/dist-packages/geopandas/geodataframe.py:1819: PerformanceWarning: DataFrame is highly fragmented.  This is usually the result of calling `frame.insert` many times, which has poor performance.  Consider joining all columns at once using pd.concat(axis=1) instead. To get a de-fragmented frame, use `newframe = frame.copy()`\n",
            "  super().__setitem__(key, value)\n",
            "/usr/local/lib/python3.11/dist-packages/geopandas/geodataframe.py:1819: PerformanceWarning: DataFrame is highly fragmented.  This is usually the result of calling `frame.insert` many times, which has poor performance.  Consider joining all columns at once using pd.concat(axis=1) instead. To get a de-fragmented frame, use `newframe = frame.copy()`\n",
            "  super().__setitem__(key, value)\n",
            "/usr/local/lib/python3.11/dist-packages/geopandas/geodataframe.py:1819: PerformanceWarning: DataFrame is highly fragmented.  This is usually the result of calling `frame.insert` many times, which has poor performance.  Consider joining all columns at once using pd.concat(axis=1) instead. To get a de-fragmented frame, use `newframe = frame.copy()`\n",
            "  super().__setitem__(key, value)\n",
            "/usr/local/lib/python3.11/dist-packages/geopandas/geodataframe.py:1819: PerformanceWarning: DataFrame is highly fragmented.  This is usually the result of calling `frame.insert` many times, which has poor performance.  Consider joining all columns at once using pd.concat(axis=1) instead. To get a de-fragmented frame, use `newframe = frame.copy()`\n",
            "  super().__setitem__(key, value)\n",
            "/usr/local/lib/python3.11/dist-packages/geopandas/geodataframe.py:1819: PerformanceWarning: DataFrame is highly fragmented.  This is usually the result of calling `frame.insert` many times, which has poor performance.  Consider joining all columns at once using pd.concat(axis=1) instead. To get a de-fragmented frame, use `newframe = frame.copy()`\n",
            "  super().__setitem__(key, value)\n",
            "/usr/local/lib/python3.11/dist-packages/geopandas/geodataframe.py:1819: PerformanceWarning: DataFrame is highly fragmented.  This is usually the result of calling `frame.insert` many times, which has poor performance.  Consider joining all columns at once using pd.concat(axis=1) instead. To get a de-fragmented frame, use `newframe = frame.copy()`\n",
            "  super().__setitem__(key, value)\n",
            "/usr/local/lib/python3.11/dist-packages/geopandas/geodataframe.py:1819: PerformanceWarning: DataFrame is highly fragmented.  This is usually the result of calling `frame.insert` many times, which has poor performance.  Consider joining all columns at once using pd.concat(axis=1) instead. To get a de-fragmented frame, use `newframe = frame.copy()`\n",
            "  super().__setitem__(key, value)\n",
            "/usr/local/lib/python3.11/dist-packages/geopandas/geodataframe.py:1819: PerformanceWarning: DataFrame is highly fragmented.  This is usually the result of calling `frame.insert` many times, which has poor performance.  Consider joining all columns at once using pd.concat(axis=1) instead. To get a de-fragmented frame, use `newframe = frame.copy()`\n",
            "  super().__setitem__(key, value)\n",
            "/usr/local/lib/python3.11/dist-packages/geopandas/geodataframe.py:1819: PerformanceWarning: DataFrame is highly fragmented.  This is usually the result of calling `frame.insert` many times, which has poor performance.  Consider joining all columns at once using pd.concat(axis=1) instead. To get a de-fragmented frame, use `newframe = frame.copy()`\n",
            "  super().__setitem__(key, value)\n",
            "/usr/local/lib/python3.11/dist-packages/geopandas/geodataframe.py:1819: PerformanceWarning: DataFrame is highly fragmented.  This is usually the result of calling `frame.insert` many times, which has poor performance.  Consider joining all columns at once using pd.concat(axis=1) instead. To get a de-fragmented frame, use `newframe = frame.copy()`\n",
            "  super().__setitem__(key, value)\n",
            "/usr/local/lib/python3.11/dist-packages/geopandas/geodataframe.py:1819: PerformanceWarning: DataFrame is highly fragmented.  This is usually the result of calling `frame.insert` many times, which has poor performance.  Consider joining all columns at once using pd.concat(axis=1) instead. To get a de-fragmented frame, use `newframe = frame.copy()`\n",
            "  super().__setitem__(key, value)\n",
            "/usr/local/lib/python3.11/dist-packages/geopandas/geodataframe.py:1819: PerformanceWarning: DataFrame is highly fragmented.  This is usually the result of calling `frame.insert` many times, which has poor performance.  Consider joining all columns at once using pd.concat(axis=1) instead. To get a de-fragmented frame, use `newframe = frame.copy()`\n",
            "  super().__setitem__(key, value)\n",
            "/usr/local/lib/python3.11/dist-packages/geopandas/geodataframe.py:1819: PerformanceWarning: DataFrame is highly fragmented.  This is usually the result of calling `frame.insert` many times, which has poor performance.  Consider joining all columns at once using pd.concat(axis=1) instead. To get a de-fragmented frame, use `newframe = frame.copy()`\n",
            "  super().__setitem__(key, value)\n",
            "/usr/local/lib/python3.11/dist-packages/geopandas/geodataframe.py:1819: PerformanceWarning: DataFrame is highly fragmented.  This is usually the result of calling `frame.insert` many times, which has poor performance.  Consider joining all columns at once using pd.concat(axis=1) instead. To get a de-fragmented frame, use `newframe = frame.copy()`\n",
            "  super().__setitem__(key, value)\n",
            "/usr/local/lib/python3.11/dist-packages/geopandas/geodataframe.py:1819: PerformanceWarning: DataFrame is highly fragmented.  This is usually the result of calling `frame.insert` many times, which has poor performance.  Consider joining all columns at once using pd.concat(axis=1) instead. To get a de-fragmented frame, use `newframe = frame.copy()`\n",
            "  super().__setitem__(key, value)\n",
            "/usr/local/lib/python3.11/dist-packages/geopandas/geodataframe.py:1819: PerformanceWarning: DataFrame is highly fragmented.  This is usually the result of calling `frame.insert` many times, which has poor performance.  Consider joining all columns at once using pd.concat(axis=1) instead. To get a de-fragmented frame, use `newframe = frame.copy()`\n",
            "  super().__setitem__(key, value)\n",
            "/usr/local/lib/python3.11/dist-packages/geopandas/geodataframe.py:1819: PerformanceWarning: DataFrame is highly fragmented.  This is usually the result of calling `frame.insert` many times, which has poor performance.  Consider joining all columns at once using pd.concat(axis=1) instead. To get a de-fragmented frame, use `newframe = frame.copy()`\n",
            "  super().__setitem__(key, value)\n",
            "/usr/local/lib/python3.11/dist-packages/geopandas/geodataframe.py:1819: PerformanceWarning: DataFrame is highly fragmented.  This is usually the result of calling `frame.insert` many times, which has poor performance.  Consider joining all columns at once using pd.concat(axis=1) instead. To get a de-fragmented frame, use `newframe = frame.copy()`\n",
            "  super().__setitem__(key, value)\n",
            "/usr/local/lib/python3.11/dist-packages/geopandas/geodataframe.py:1819: PerformanceWarning: DataFrame is highly fragmented.  This is usually the result of calling `frame.insert` many times, which has poor performance.  Consider joining all columns at once using pd.concat(axis=1) instead. To get a de-fragmented frame, use `newframe = frame.copy()`\n",
            "  super().__setitem__(key, value)\n",
            "/usr/local/lib/python3.11/dist-packages/geopandas/geodataframe.py:1819: PerformanceWarning: DataFrame is highly fragmented.  This is usually the result of calling `frame.insert` many times, which has poor performance.  Consider joining all columns at once using pd.concat(axis=1) instead. To get a de-fragmented frame, use `newframe = frame.copy()`\n",
            "  super().__setitem__(key, value)\n"
          ]
        },
        {
          "name": "stdout",
          "output_type": "stream",
          "text": [
            "'lvl1' için birleştirme tamamlandı. Eşleşen nokta sayısı: 1000000\n",
            "DEBUG: 'lvl1' True/False dağılımı:\n",
            "in_lvl1\n",
            "True    1000000\n",
            "Name: count, dtype: int64\n",
            "\n",
            "--- 'clubs' poligonları ile işleme başlanıyor ---\n",
            "DEBUG: gdf_polygon ('clubs') BAŞLANGIÇ shape: (31, 3), bounds: [27.11959067 36.86250682 32.87034765 41.18356706]\n",
            "DEBUG: gdf_polygon ('clubs') FİLTRELENMİŞ shape: (6, 3), bounds: [28.99857694 41.05447406 29.01354664 41.0798898 ]\n",
            "DEBUG: gdf_results geometri türleri: ['Point']\n",
            "DEBUG: gdf_polygon ('clubs') geometri türleri: ['Polygon']\n",
            "DEBUG: sjoin için hazırlanıyor: gdf_results ((1000000, 147)), gdf_polygon ('clubs') ((6, 3))\n"
          ]
        },
        {
          "name": "stderr",
          "output_type": "stream",
          "text": [
            "/usr/local/lib/python3.11/dist-packages/geopandas/tools/sjoin.py:274: PerformanceWarning: DataFrame is highly fragmented.  This is usually the result of calling `frame.insert` many times, which has poor performance.  Consider joining all columns at once using pd.concat(axis=1) instead. To get a de-fragmented frame, use `newframe = frame.copy()`\n",
            "  df_reset.reset_index(inplace=True)\n"
          ]
        },
        {
          "name": "stdout",
          "output_type": "stream",
          "text": [
            "DEBUG: gdf_joined_temp SHAPE for 'clubs': (1000000, 150)\n",
            "DEBUG: Index sütunu bulundu: 'index__poly_clubs'\n",
            "DEBUG: 'clubs' için toplam eşleşme sayısı: 0\n",
            "DEBUG: 'clubs' için eşleşme oranı: 0.0%\n",
            "'clubs' için birleştirme tamamlandı. Eşleşen nokta sayısı: 0\n",
            "DEBUG: 'clubs' True/False dağılımı:\n",
            "in_clubs\n",
            "False    1000000\n",
            "Name: count, dtype: int64\n",
            "\n",
            "--- 'hotels' poligonları ile işleme başlanıyor ---\n",
            "DEBUG: gdf_polygon ('hotels') BAŞLANGIÇ shape: (358, 3), bounds: [25.93972529 36.13826756 35.3227666  41.86945144]\n",
            "DEBUG: gdf_polygon ('hotels') FİLTRELENMİŞ shape: (9, 3), bounds: [28.99684641 40.95667779 29.18296551 41.07818498]\n"
          ]
        },
        {
          "name": "stderr",
          "output_type": "stream",
          "text": [
            "/usr/local/lib/python3.11/dist-packages/geopandas/geodataframe.py:1819: PerformanceWarning: DataFrame is highly fragmented.  This is usually the result of calling `frame.insert` many times, which has poor performance.  Consider joining all columns at once using pd.concat(axis=1) instead. To get a de-fragmented frame, use `newframe = frame.copy()`\n",
            "  super().__setitem__(key, value)\n",
            "/usr/local/lib/python3.11/dist-packages/geopandas/geodataframe.py:1819: PerformanceWarning: DataFrame is highly fragmented.  This is usually the result of calling `frame.insert` many times, which has poor performance.  Consider joining all columns at once using pd.concat(axis=1) instead. To get a de-fragmented frame, use `newframe = frame.copy()`\n",
            "  super().__setitem__(key, value)\n",
            "/usr/local/lib/python3.11/dist-packages/geopandas/geodataframe.py:1819: PerformanceWarning: DataFrame is highly fragmented.  This is usually the result of calling `frame.insert` many times, which has poor performance.  Consider joining all columns at once using pd.concat(axis=1) instead. To get a de-fragmented frame, use `newframe = frame.copy()`\n",
            "  super().__setitem__(key, value)\n"
          ]
        },
        {
          "name": "stdout",
          "output_type": "stream",
          "text": [
            "DEBUG: gdf_results geometri türleri: ['Point']\n",
            "DEBUG: gdf_polygon ('hotels') geometri türleri: ['Polygon']\n",
            "DEBUG: sjoin için hazırlanıyor: gdf_results ((1000000, 150)), gdf_polygon ('hotels') ((9, 3))\n"
          ]
        },
        {
          "name": "stderr",
          "output_type": "stream",
          "text": [
            "/usr/local/lib/python3.11/dist-packages/geopandas/tools/sjoin.py:274: PerformanceWarning: DataFrame is highly fragmented.  This is usually the result of calling `frame.insert` many times, which has poor performance.  Consider joining all columns at once using pd.concat(axis=1) instead. To get a de-fragmented frame, use `newframe = frame.copy()`\n",
            "  df_reset.reset_index(inplace=True)\n"
          ]
        },
        {
          "name": "stdout",
          "output_type": "stream",
          "text": [
            "DEBUG: gdf_joined_temp SHAPE for 'hotels': (1000000, 153)\n",
            "DEBUG: Index sütunu bulundu: 'index__poly_hotels'\n",
            "DEBUG: 'hotels' için toplam eşleşme sayısı: 9\n",
            "DEBUG: 'hotels' için eşleşme oranı: 0.0%\n",
            "'hotels' için birleştirme tamamlandı. Eşleşen nokta sayısı: 9\n",
            "DEBUG: 'hotels' True/False dağılımı:\n",
            "in_hotels\n",
            "False    999991\n",
            "True          9\n",
            "Name: count, dtype: int64\n",
            "\n",
            "--- 'luxury_houses' poligonları ile işleme başlanıyor ---\n",
            "DEBUG: gdf_polygon ('luxury_houses') BAŞLANGIÇ shape: (47, 3), bounds: [27.14065753 36.85782801 40.13436017 41.18397107]\n",
            "DEBUG: gdf_polygon ('luxury_houses') FİLTRELENMİŞ shape: (10, 3), bounds: [29.04195586 40.9580782  29.12317057 41.06919004]\n",
            "DEBUG: gdf_results geometri türleri: ['Point']\n",
            "DEBUG: gdf_polygon ('luxury_houses') geometri türleri: ['Polygon']\n",
            "DEBUG: sjoin için hazırlanıyor: gdf_results ((1000000, 153)), gdf_polygon ('luxury_houses') ((10, 3))\n"
          ]
        },
        {
          "name": "stderr",
          "output_type": "stream",
          "text": [
            "/usr/local/lib/python3.11/dist-packages/geopandas/geodataframe.py:1819: PerformanceWarning: DataFrame is highly fragmented.  This is usually the result of calling `frame.insert` many times, which has poor performance.  Consider joining all columns at once using pd.concat(axis=1) instead. To get a de-fragmented frame, use `newframe = frame.copy()`\n",
            "  super().__setitem__(key, value)\n",
            "/usr/local/lib/python3.11/dist-packages/geopandas/geodataframe.py:1819: PerformanceWarning: DataFrame is highly fragmented.  This is usually the result of calling `frame.insert` many times, which has poor performance.  Consider joining all columns at once using pd.concat(axis=1) instead. To get a de-fragmented frame, use `newframe = frame.copy()`\n",
            "  super().__setitem__(key, value)\n",
            "/usr/local/lib/python3.11/dist-packages/geopandas/geodataframe.py:1819: PerformanceWarning: DataFrame is highly fragmented.  This is usually the result of calling `frame.insert` many times, which has poor performance.  Consider joining all columns at once using pd.concat(axis=1) instead. To get a de-fragmented frame, use `newframe = frame.copy()`\n",
            "  super().__setitem__(key, value)\n",
            "/usr/local/lib/python3.11/dist-packages/geopandas/tools/sjoin.py:274: PerformanceWarning: DataFrame is highly fragmented.  This is usually the result of calling `frame.insert` many times, which has poor performance.  Consider joining all columns at once using pd.concat(axis=1) instead. To get a de-fragmented frame, use `newframe = frame.copy()`\n",
            "  df_reset.reset_index(inplace=True)\n"
          ]
        },
        {
          "name": "stdout",
          "output_type": "stream",
          "text": [
            "DEBUG: gdf_joined_temp SHAPE for 'luxury_houses': (1000001, 156)\n",
            "DEBUG: Index sütunu bulundu: 'index__poly_luxury_houses'\n",
            "DEBUG: 'luxury_houses' için toplam eşleşme sayısı: 125\n",
            "DEBUG: 'luxury_houses' için eşleşme oranı: 0.0%\n",
            "DEBUG: 'luxury_houses' için duplicate index'ler mevcut, gruplandırılıyor...\n"
          ]
        },
        {
          "name": "stderr",
          "output_type": "stream",
          "text": [
            "/usr/local/lib/python3.11/dist-packages/geopandas/geodataframe.py:1819: PerformanceWarning: DataFrame is highly fragmented.  This is usually the result of calling `frame.insert` many times, which has poor performance.  Consider joining all columns at once using pd.concat(axis=1) instead. To get a de-fragmented frame, use `newframe = frame.copy()`\n",
            "  super().__setitem__(key, value)\n",
            "/usr/local/lib/python3.11/dist-packages/geopandas/geodataframe.py:1819: PerformanceWarning: DataFrame is highly fragmented.  This is usually the result of calling `frame.insert` many times, which has poor performance.  Consider joining all columns at once using pd.concat(axis=1) instead. To get a de-fragmented frame, use `newframe = frame.copy()`\n",
            "  super().__setitem__(key, value)\n",
            "/usr/local/lib/python3.11/dist-packages/geopandas/geodataframe.py:1819: PerformanceWarning: DataFrame is highly fragmented.  This is usually the result of calling `frame.insert` many times, which has poor performance.  Consider joining all columns at once using pd.concat(axis=1) instead. To get a de-fragmented frame, use `newframe = frame.copy()`\n",
            "  super().__setitem__(key, value)\n"
          ]
        },
        {
          "name": "stdout",
          "output_type": "stream",
          "text": [
            "'luxury_houses' için birleştirme tamamlandı. Eşleşen nokta sayısı: 124\n",
            "DEBUG: 'luxury_houses' True/False dağılımı:\n",
            "in_luxury_houses\n",
            "False    999876\n",
            "True        124\n",
            "Name: count, dtype: int64\n",
            "\n",
            "--- 'turkey_sites' poligonları ile işleme başlanıyor ---\n",
            "DEBUG: gdf_polygon ('turkey_sites') BAŞLANGIÇ shape: (17, 3), bounds: [27.17345198 38.44654881 32.94178972 41.12019563]\n",
            "DEBUG: gdf_polygon ('turkey_sites') FİLTRELENMİŞ shape: (2, 3), bounds: [29.01451629 40.99380689 29.11150904 41.06810974]\n",
            "DEBUG: gdf_results geometri türleri: ['Point']\n",
            "DEBUG: gdf_polygon ('turkey_sites') geometri türleri: ['Polygon']\n",
            "DEBUG: sjoin için hazırlanıyor: gdf_results ((1000000, 156)), gdf_polygon ('turkey_sites') ((2, 3))\n"
          ]
        },
        {
          "name": "stderr",
          "output_type": "stream",
          "text": [
            "/usr/local/lib/python3.11/dist-packages/geopandas/tools/sjoin.py:274: PerformanceWarning: DataFrame is highly fragmented.  This is usually the result of calling `frame.insert` many times, which has poor performance.  Consider joining all columns at once using pd.concat(axis=1) instead. To get a de-fragmented frame, use `newframe = frame.copy()`\n",
            "  df_reset.reset_index(inplace=True)\n"
          ]
        },
        {
          "name": "stdout",
          "output_type": "stream",
          "text": [
            "DEBUG: gdf_joined_temp SHAPE for 'turkey_sites': (1000000, 159)\n",
            "DEBUG: Index sütunu bulundu: 'index__poly_turkey_sites'\n",
            "DEBUG: 'turkey_sites' için toplam eşleşme sayısı: 1695\n",
            "DEBUG: 'turkey_sites' için eşleşme oranı: 0.2%\n",
            "'turkey_sites' için birleştirme tamamlandı. Eşleşen nokta sayısı: 1695\n",
            "DEBUG: 'turkey_sites' True/False dağılımı:\n",
            "in_turkey_sites\n",
            "False    998305\n",
            "True       1695\n",
            "Name: count, dtype: int64\n",
            "\n",
            "--- 'p_schools' poligonları ile işleme başlanıyor ---\n",
            "DEBUG: gdf_polygon ('p_schools') BAŞLANGIÇ shape: (973, 3), bounds: [26.82918695 36.53884546 43.05585307 41.39201159]\n",
            "DEBUG: gdf_polygon ('p_schools') FİLTRELENMİŞ shape: (157, 3), bounds: [29.00361469 40.95052024 29.18639634 41.08705576]\n"
          ]
        },
        {
          "name": "stderr",
          "output_type": "stream",
          "text": [
            "/usr/local/lib/python3.11/dist-packages/geopandas/geodataframe.py:1819: PerformanceWarning: DataFrame is highly fragmented.  This is usually the result of calling `frame.insert` many times, which has poor performance.  Consider joining all columns at once using pd.concat(axis=1) instead. To get a de-fragmented frame, use `newframe = frame.copy()`\n",
            "  super().__setitem__(key, value)\n",
            "/usr/local/lib/python3.11/dist-packages/geopandas/geodataframe.py:1819: PerformanceWarning: DataFrame is highly fragmented.  This is usually the result of calling `frame.insert` many times, which has poor performance.  Consider joining all columns at once using pd.concat(axis=1) instead. To get a de-fragmented frame, use `newframe = frame.copy()`\n",
            "  super().__setitem__(key, value)\n",
            "/usr/local/lib/python3.11/dist-packages/geopandas/geodataframe.py:1819: PerformanceWarning: DataFrame is highly fragmented.  This is usually the result of calling `frame.insert` many times, which has poor performance.  Consider joining all columns at once using pd.concat(axis=1) instead. To get a de-fragmented frame, use `newframe = frame.copy()`\n",
            "  super().__setitem__(key, value)\n"
          ]
        },
        {
          "name": "stdout",
          "output_type": "stream",
          "text": [
            "DEBUG: gdf_results geometri türleri: ['Point']\n",
            "DEBUG: gdf_polygon ('p_schools') geometri türleri: ['Polygon']\n",
            "DEBUG: sjoin için hazırlanıyor: gdf_results ((1000000, 159)), gdf_polygon ('p_schools') ((157, 3))\n"
          ]
        },
        {
          "name": "stderr",
          "output_type": "stream",
          "text": [
            "/usr/local/lib/python3.11/dist-packages/geopandas/tools/sjoin.py:274: PerformanceWarning: DataFrame is highly fragmented.  This is usually the result of calling `frame.insert` many times, which has poor performance.  Consider joining all columns at once using pd.concat(axis=1) instead. To get a de-fragmented frame, use `newframe = frame.copy()`\n",
            "  df_reset.reset_index(inplace=True)\n"
          ]
        },
        {
          "name": "stdout",
          "output_type": "stream",
          "text": [
            "DEBUG: gdf_joined_temp SHAPE for 'p_schools': (1001264, 162)\n",
            "DEBUG: Index sütunu bulundu: 'index__poly_p_schools'\n",
            "DEBUG: 'p_schools' için toplam eşleşme sayısı: 1788\n",
            "DEBUG: 'p_schools' için eşleşme oranı: 0.2%\n",
            "DEBUG: 'p_schools' için duplicate index'ler mevcut, gruplandırılıyor...\n"
          ]
        },
        {
          "name": "stderr",
          "output_type": "stream",
          "text": [
            "/usr/local/lib/python3.11/dist-packages/geopandas/geodataframe.py:1819: PerformanceWarning: DataFrame is highly fragmented.  This is usually the result of calling `frame.insert` many times, which has poor performance.  Consider joining all columns at once using pd.concat(axis=1) instead. To get a de-fragmented frame, use `newframe = frame.copy()`\n",
            "  super().__setitem__(key, value)\n",
            "/usr/local/lib/python3.11/dist-packages/geopandas/geodataframe.py:1819: PerformanceWarning: DataFrame is highly fragmented.  This is usually the result of calling `frame.insert` many times, which has poor performance.  Consider joining all columns at once using pd.concat(axis=1) instead. To get a de-fragmented frame, use `newframe = frame.copy()`\n",
            "  super().__setitem__(key, value)\n",
            "/usr/local/lib/python3.11/dist-packages/geopandas/geodataframe.py:1819: PerformanceWarning: DataFrame is highly fragmented.  This is usually the result of calling `frame.insert` many times, which has poor performance.  Consider joining all columns at once using pd.concat(axis=1) instead. To get a de-fragmented frame, use `newframe = frame.copy()`\n",
            "  super().__setitem__(key, value)\n"
          ]
        },
        {
          "name": "stdout",
          "output_type": "stream",
          "text": [
            "'p_schools' için birleştirme tamamlandı. Eşleşen nokta sayısı: 524\n",
            "DEBUG: 'p_schools' True/False dağılımı:\n",
            "in_p_schools\n",
            "False    999476\n",
            "True        524\n",
            "Name: count, dtype: int64\n",
            "\n",
            "Tüm poligonlarla mekansal birleştirme tamamlandı.\n",
            "Özet İstatistikler:\n",
            "  airport: 0/1000000 (%0.0)\n",
            "  lvl2: 1000000/1000000 (%100.0)\n",
            "  lvl3: 1000000/1000000 (%100.0)\n",
            "  lvl4: 1000000/1000000 (%100.0)\n",
            "  poi: 60949/1000000 (%6.1)\n",
            "  lvl1: 1000000/1000000 (%100.0)\n",
            "  clubs: 0/1000000 (%0.0)\n",
            "  hotels: 9/1000000 (%0.0)\n",
            "  luxury_houses: 124/1000000 (%0.0)\n",
            "  turkey_sites: 1695/1000000 (%0.2)\n",
            "  p_schools: 524/1000000 (%0.1)\n"
          ]
        }
      ],
      "source": [
        "if 'gdf_mobility' in locals() and gdf_mobility is not None and not gdf_mobility.empty and dict_gdfs_polygons:\n",
        "    gdf_results = gdf_mobility.copy()\n",
        "    print(f\"DEBUG: gdf_results başlangıç CRS: {gdf_results.crs}, Boyut: {gdf_results.shape}\")\n",
        "\n",
        "    # Mobilite verilerinin bounds'unu al ve biraz genişlet\n",
        "    mobility_bounds = gdf_results.total_bounds\n",
        "    buffer_distance = 0.01  # ~1km buffer\n",
        "    filtered_bounds = [\n",
        "        mobility_bounds[0] - buffer_distance,  # min_x\n",
        "        mobility_bounds[1] - buffer_distance,  # min_y\n",
        "        mobility_bounds[2] + buffer_distance,  # max_x\n",
        "        mobility_bounds[3] + buffer_distance   # max_y\n",
        "    ]\n",
        "    print(f\"DEBUG: Mobilite verisi bounds: {mobility_bounds}\")\n",
        "    print(f\"DEBUG: Filtreleme için kullanılacak bounds (buffer ile): {filtered_bounds}\")\n",
        "\n",
        "    for polygon_type, gdf_polygon_orig in dict_gdfs_polygons.items():\n",
        "        print(f\"\\n--- '{polygon_type}' poligonları ile işleme başlanıyor ---\")\n",
        "\n",
        "        # <<< KULLANICI İSTEĞİ: lvl1 ve lvl2 poligonlarını atla >>>\n",
        "        if polygon_type in ['lvl1', 'lvl2']:\n",
        "            print(f\"'{polygon_type}' poligon türü kullanıcı isteği üzerine atlanıyor.\")\n",
        "            continue\n",
        "        # <<< DEĞİŞİKLİK SONU >>>\n",
        "\n",
        "        if gdf_polygon_orig is None or gdf_polygon_orig.empty:\n",
        "            print(f\"DEBUG: '{polygon_type}' için poligon verisi (gdf_polygon_orig) boş veya None. Bu poligon türü atlanıyor.\")\n",
        "            gdf_results[f'in_{polygon_type}'] = False\n",
        "            continue\n",
        "\n",
        "        gdf_polygon = gdf_polygon_orig.copy()\n",
        "        print(f\"DEBUG: gdf_polygon ('{polygon_type}') BAŞLANGIÇ shape: {gdf_polygon.shape}, bounds: {gdf_polygon.total_bounds}\")\n",
        "\n",
        "        # *** YENİ: POLİGONLARI FİLTRELE ***\n",
        "        # Sadece mobilite verisi alanıyla kesişen poligonları al\n",
        "        polygon_intersects_mobility = gdf_polygon.bounds.apply(\n",
        "            lambda row: not (\n",
        "                row['maxx'] < filtered_bounds[0] or  # Poligon mobilite alanının solunda\n",
        "                row['minx'] > filtered_bounds[2] or  # Poligon mobilite alanının sağında\n",
        "                row['maxy'] < filtered_bounds[1] or  # Poligon mobilite alanının altında\n",
        "                row['miny'] > filtered_bounds[3]     # Poligon mobilite alanının üstünde\n",
        "            ), axis=1\n",
        "        )\n",
        "\n",
        "        gdf_polygon = gdf_polygon[polygon_intersects_mobility]\n",
        "        print(f\"DEBUG: gdf_polygon ('{polygon_type}') FİLTRELENMİŞ shape: {gdf_polygon.shape}, bounds: {gdf_polygon.total_bounds}\")\n",
        "\n",
        "        if gdf_polygon.empty:\n",
        "            print(f\"DEBUG: '{polygon_type}' filtrelemeden sonra boş kaldı. Bu alan için uygun poligon yok.\")\n",
        "            gdf_results[f'in_{polygon_type}'] = False\n",
        "            continue\n",
        "\n",
        "        # Geçersiz geometrileri temizle\n",
        "        if not gdf_polygon.is_valid.all():\n",
        "            print(f\"UYARI: gdf_polygon ('{polygon_type}') geçersiz geometriler içeriyor. Temizlenmeye çalışılıyor...\")\n",
        "            gdf_polygon = gdf_polygon[gdf_polygon.is_valid]\n",
        "            if gdf_polygon.empty:\n",
        "                print(f\"DEBUG: gdf_polygon ('{polygon_type}') geçersiz geometriler temizlendikten sonra boş kaldı. Atlanıyor.\")\n",
        "                gdf_results[f'in_{polygon_type}'] = False\n",
        "                continue\n",
        "            print(f\"DEBUG: gdf_polygon ('{polygon_type}') temizlendikten sonra shape: {gdf_polygon.shape}\")\n",
        "\n",
        "        # Poligon bilgi sütunlarını belirle\n",
        "        polygon_info_columns = [col for col in gdf_polygon.columns if col not in ['geometry', 'index_right']]\n",
        "        if not polygon_info_columns:\n",
        "            temp_info_col_name = f'{polygon_type}_type_info'\n",
        "            gdf_polygon[temp_info_col_name] = polygon_type\n",
        "            polygon_info_columns = [temp_info_col_name]\n",
        "            print(f\"DEBUG: '{polygon_type}' için özel bilgi sütunu bulunamadı, '{temp_info_col_name}' eklendi.\")\n",
        "\n",
        "        try:\n",
        "            # CRS kontrolü ve dönüştürme\n",
        "            if gdf_results.crs != gdf_polygon.crs:\n",
        "                print(f\"UYARI: CRS uyuşmazlığı! gdf_results CRS: {gdf_results.crs}, gdf_polygon ('{polygon_type}') CRS: {gdf_polygon.crs}\")\n",
        "                print(f\"'{polygon_type}' gdf_results CRS'ine dönüştürülüyor.\")\n",
        "                gdf_polygon = gdf_polygon.to_crs(gdf_results.crs)\n",
        "\n",
        "            # DEBUG: Geometri türlerini kontrol et\n",
        "            print(f\"DEBUG: gdf_results geometri türleri: {gdf_results.geometry.geom_type.unique()}\")\n",
        "            print(f\"DEBUG: gdf_polygon ('{polygon_type}') geometri türleri: {gdf_polygon.geometry.geom_type.unique()}\")\n",
        "\n",
        "            current_rsuffix = f'_poly_{polygon_type}'\n",
        "            print(f\"DEBUG: sjoin için hazırlanıyor: gdf_results ({gdf_results.shape}), gdf_polygon ('{polygon_type}') ({gdf_polygon.shape})\")\n",
        "\n",
        "            # Mekansal birleştirme\n",
        "            gdf_joined_temp = geopandas.sjoin(gdf_results,\n",
        "                                            gdf_polygon[['geometry'] + polygon_info_columns],\n",
        "                                            how='left',\n",
        "                                            predicate='intersects',\n",
        "                                            rsuffix=current_rsuffix)\n",
        "\n",
        "            print(f\"DEBUG: gdf_joined_temp SHAPE for '{polygon_type}': {gdf_joined_temp.shape}\")\n",
        "\n",
        "            # Index sütununu bul\n",
        "            actual_index_right_col = None\n",
        "            possible_index_columns = [\n",
        "                f'index{current_rsuffix}',\n",
        "                f'index_{current_rsuffix[1:]}',\n",
        "                'index_right',\n",
        "                f'index__{polygon_type}',\n",
        "                f'index__poly_{polygon_type}'\n",
        "            ]\n",
        "\n",
        "            for col_name in possible_index_columns:\n",
        "                if col_name in gdf_joined_temp.columns:\n",
        "                    actual_index_right_col = col_name\n",
        "                    print(f\"DEBUG: Index sütunu bulundu: '{actual_index_right_col}'\")\n",
        "                    break\n",
        "\n",
        "            if actual_index_right_col is None:\n",
        "                index_cols = [col for col in gdf_joined_temp.columns if col.startswith('index')]\n",
        "                print(f\"DEBUG: Bulunan index sütunları: {index_cols}\")\n",
        "                if index_cols:\n",
        "                    actual_index_right_col = index_cols[0]\n",
        "                    print(f\"DEBUG: İlk index sütunu kullanılıyor: '{actual_index_right_col}'\")\n",
        "\n",
        "            if actual_index_right_col:\n",
        "                # Eşleşme durumunu kontrol et\n",
        "                match_series = gdf_joined_temp[actual_index_right_col].notna()\n",
        "                print(f\"DEBUG: '{polygon_type}' için toplam eşleşme sayısı: {match_series.sum()}\")\n",
        "                print(f\"DEBUG: '{polygon_type}' için eşleşme oranı: {match_series.sum() / len(gdf_results) * 100:.1f}%\")\n",
        "\n",
        "                # Duplicate index durumunu handle et\n",
        "                if gdf_joined_temp.index.duplicated().any():\n",
        "                    print(f\"DEBUG: '{polygon_type}' için duplicate index'ler mevcut, gruplandırılıyor...\")\n",
        "                    in_polygon_series = gdf_joined_temp.groupby(gdf_joined_temp.index)[actual_index_right_col].apply(lambda x: x.notna().any())\n",
        "                else:\n",
        "                    in_polygon_series = match_series\n",
        "\n",
        "                # Sonucu ana DataFrame'e ekle\n",
        "                gdf_results[f'in_{polygon_type}'] = False\n",
        "                gdf_results.loc[in_polygon_series.index, f'in_{polygon_type}'] = in_polygon_series\n",
        "\n",
        "                # Poligon bilgilerini aktar\n",
        "                for col in polygon_info_columns:\n",
        "                    new_col_name_in_results = f'{polygon_type}_{col}'\n",
        "                    gdf_results[new_col_name_in_results] = pd.NA\n",
        "\n",
        "                    source_col_in_joined = None\n",
        "                    if f'{col}{current_rsuffix}' in gdf_joined_temp.columns:\n",
        "                        source_col_in_joined = f'{col}{current_rsuffix}'\n",
        "                    elif col in gdf_joined_temp.columns:\n",
        "                        source_col_in_joined = col\n",
        "\n",
        "                    if source_col_in_joined and not gdf_joined_temp.empty:\n",
        "                        matched_rows = gdf_joined_temp[gdf_joined_temp[actual_index_right_col].notna()]\n",
        "                        if not matched_rows.empty:\n",
        "                            if matched_rows.index.duplicated().any():\n",
        "                                first_match_attributes = matched_rows.groupby(matched_rows.index)[source_col_in_joined].first()\n",
        "                            else:\n",
        "                                first_match_attributes = matched_rows[source_col_in_joined]\n",
        "                            gdf_results.loc[first_match_attributes.index, new_col_name_in_results] = first_match_attributes\n",
        "\n",
        "                print(f\"'{polygon_type}' için birleştirme tamamlandı. Eşleşen nokta sayısı: {gdf_results[f'in_{polygon_type}'].sum()}\")\n",
        "                print(f\"DEBUG: '{polygon_type}' True/False dağılımı:\")\n",
        "                print(gdf_results[f'in_{polygon_type}'].value_counts())\n",
        "\n",
        "            else:\n",
        "                print(f\"HATA: '{polygon_type}' için sjoin sonrası hiçbir index sütunu bulunamadı!\")\n",
        "                gdf_results[f'in_{polygon_type}'] = False\n",
        "\n",
        "            del gdf_joined_temp\n",
        "            import gc\n",
        "            gc.collect()\n",
        "\n",
        "        except Exception as e:\n",
        "            print(f\"HATA: '{polygon_type}' ile mekansal birleştirme sırasında bir sorun oluştu: {e}\")\n",
        "            import traceback\n",
        "            traceback.print_exc()\n",
        "            if f'in_{polygon_type}' not in gdf_results.columns:\n",
        "                gdf_results[f'in_{polygon_type}'] = False\n",
        "\n",
        "    print(\"\\nTüm poligonlarla mekansal birleştirme tamamlandı.\")\n",
        "    print(\"Özet İstatistikler:\")\n",
        "    for p_type in dict_gdfs_polygons.keys():\n",
        "        if f'in_{p_type}' in gdf_results.columns:\n",
        "            true_count = gdf_results[f'in_{p_type}'].sum()\n",
        "            total_count = len(gdf_results)\n",
        "            percentage = (true_count / total_count) * 100 if total_count > 0 else 0\n",
        "            print(f\"  {p_type}: {true_count}/{total_count} (%{percentage:.1f})\")\n",
        "\n",
        "else:\n",
        "    print(\"Uyarı: 'gdf_mobility' (boş, None veya yüklenememiş olabilir) veya 'dict_gdfs_polygons' (boş olabilir) nedeniyle mekansal birleştirme atlandı.\")"
      ]
    },
    {
      "cell_type": "code",
      "execution_count": null,
      "metadata": {
        "colab": {
          "base_uri": "https://localhost:8080/"
        },
        "id": "FyedkijrmfxY",
        "outputId": "24132d84-3d7b-4661-9062-8ad72896f500"
      },
      "outputs": [
        {
          "name": "stdout",
          "output_type": "stream",
          "text": [
            "\n",
            "İşlenmiş veriler başarıyla CSV olarak kaydedildi: /content/drive/MyDrive/final_mobilityv2_analysis_results.csv\n"
          ]
        }
      ],
      "source": [
        "if 'base_drive_path' not in locals():\n",
        "    base_drive_path = '.' # Mevcut çalışma dizini\n",
        "\n",
        "# Sonuçları Kaydetme\n",
        "if 'gdf_results' in locals() and not gdf_results.empty:\n",
        "    try:\n",
        "        output_filename_csv = 'final_mobilityv2_analysis_results.csv'\n",
        "        output_path_csv = os.path.join(base_drive_path, output_filename_csv)\n",
        "\n",
        "        # GeoDataFrame'i CSV olarak kaydetme\n",
        "        # Geometri sütunu WKT (Well-Known Text) formatında kaydedilecektir.\n",
        "        gdf_results.to_csv(output_path_csv, index=False, encoding='utf-8-sig')\n",
        "        # encoding='utf-8-sig' Türkçe karakterlerin Excel gibi programlarda doğru görüntülenmesine yardımcı olur.\n",
        "\n",
        "        print(f\"\\nİşlenmiş veriler başarıyla CSV olarak kaydedildi: {output_path_csv}\")\n",
        "    except Exception as e:\n",
        "        print(f\"HATA: Sonuçlar CSV olarak kaydedilirken bir sorun oluştu: {e}\")\n",
        "elif 'gdf_results' in locals() and gdf_results.empty:\n",
        "    print(\"\\n'gdf_results' DataFrame'i boş olduğu için sonuçlar kaydedilmedi.\")\n",
        "else:\n",
        "    print(\"\\n'gdf_results' DataFrame'i bulunamadığı için sonuçlar kaydedilemedi.\")\n"
      ]
    }
  ],
  "metadata": {
    "colab": {
      "machine_shape": "hm",
      "provenance": []
    },
    "kernelspec": {
      "display_name": "Python 3",
      "name": "python3"
    },
    "language_info": {
      "name": "python"
    }
  },
  "nbformat": 4,
  "nbformat_minor": 0
}
